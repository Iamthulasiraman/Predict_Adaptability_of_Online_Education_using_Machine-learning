{
 "cells": [
  {
   "cell_type": "markdown",
   "id": "00ac5ebd",
   "metadata": {},
   "source": [
    "## importing required libraries :"
   ]
  },
  {
   "cell_type": "code",
   "execution_count": 242,
   "id": "b3368957",
   "metadata": {},
   "outputs": [],
   "source": [
    "import pandas as pd\n",
    "import math\n",
    "import seaborn as sns \n",
    "import numpy as np\n",
    "import matplotlib.pyplot as plt\n",
    "from sklearn.metrics import accuracy_score"
   ]
  },
  {
   "cell_type": "markdown",
   "id": "a868640a",
   "metadata": {},
   "source": [
    "### importing dataset"
   ]
  },
  {
   "cell_type": "code",
   "execution_count": 270,
   "id": "1fb16064",
   "metadata": {},
   "outputs": [
    {
     "data": {
      "text/html": [
       "<div>\n",
       "<style scoped>\n",
       "    .dataframe tbody tr th:only-of-type {\n",
       "        vertical-align: middle;\n",
       "    }\n",
       "\n",
       "    .dataframe tbody tr th {\n",
       "        vertical-align: top;\n",
       "    }\n",
       "\n",
       "    .dataframe thead th {\n",
       "        text-align: right;\n",
       "    }\n",
       "</style>\n",
       "<table border=\"1\" class=\"dataframe\">\n",
       "  <thead>\n",
       "    <tr style=\"text-align: right;\">\n",
       "      <th></th>\n",
       "      <th>Gender</th>\n",
       "      <th>Age</th>\n",
       "      <th>Education Level</th>\n",
       "      <th>Institution Type</th>\n",
       "      <th>IT Student</th>\n",
       "      <th>Location</th>\n",
       "      <th>Load-shedding</th>\n",
       "      <th>Financial Condition</th>\n",
       "      <th>Internet Type</th>\n",
       "      <th>Network Type</th>\n",
       "      <th>Class Duration</th>\n",
       "      <th>Self Lms</th>\n",
       "      <th>Device</th>\n",
       "      <th>Adaptivity Level</th>\n",
       "    </tr>\n",
       "  </thead>\n",
       "  <tbody>\n",
       "    <tr>\n",
       "      <th>0</th>\n",
       "      <td>Boy</td>\n",
       "      <td>21-25</td>\n",
       "      <td>University</td>\n",
       "      <td>Non Government</td>\n",
       "      <td>No</td>\n",
       "      <td>Yes</td>\n",
       "      <td>Low</td>\n",
       "      <td>Mid</td>\n",
       "      <td>Wifi</td>\n",
       "      <td>4G</td>\n",
       "      <td>3-6</td>\n",
       "      <td>No</td>\n",
       "      <td>Tab</td>\n",
       "      <td>Moderate</td>\n",
       "    </tr>\n",
       "    <tr>\n",
       "      <th>1</th>\n",
       "      <td>Girl</td>\n",
       "      <td>21-25</td>\n",
       "      <td>University</td>\n",
       "      <td>Non Government</td>\n",
       "      <td>No</td>\n",
       "      <td>Yes</td>\n",
       "      <td>High</td>\n",
       "      <td>Mid</td>\n",
       "      <td>Mobile Data</td>\n",
       "      <td>4G</td>\n",
       "      <td>1-3</td>\n",
       "      <td>Yes</td>\n",
       "      <td>Mobile</td>\n",
       "      <td>Moderate</td>\n",
       "    </tr>\n",
       "    <tr>\n",
       "      <th>2</th>\n",
       "      <td>Girl</td>\n",
       "      <td>16-20</td>\n",
       "      <td>College</td>\n",
       "      <td>Government</td>\n",
       "      <td>No</td>\n",
       "      <td>Yes</td>\n",
       "      <td>Low</td>\n",
       "      <td>Mid</td>\n",
       "      <td>Wifi</td>\n",
       "      <td>4G</td>\n",
       "      <td>1-3</td>\n",
       "      <td>No</td>\n",
       "      <td>Mobile</td>\n",
       "      <td>Moderate</td>\n",
       "    </tr>\n",
       "    <tr>\n",
       "      <th>3</th>\n",
       "      <td>Girl</td>\n",
       "      <td>11-15</td>\n",
       "      <td>School</td>\n",
       "      <td>Non Government</td>\n",
       "      <td>No</td>\n",
       "      <td>Yes</td>\n",
       "      <td>Low</td>\n",
       "      <td>Mid</td>\n",
       "      <td>Mobile Data</td>\n",
       "      <td>4G</td>\n",
       "      <td>1-3</td>\n",
       "      <td>No</td>\n",
       "      <td>Mobile</td>\n",
       "      <td>Moderate</td>\n",
       "    </tr>\n",
       "    <tr>\n",
       "      <th>4</th>\n",
       "      <td>Girl</td>\n",
       "      <td>16-20</td>\n",
       "      <td>School</td>\n",
       "      <td>Non Government</td>\n",
       "      <td>No</td>\n",
       "      <td>Yes</td>\n",
       "      <td>Low</td>\n",
       "      <td>Poor</td>\n",
       "      <td>Mobile Data</td>\n",
       "      <td>3G</td>\n",
       "      <td>0</td>\n",
       "      <td>No</td>\n",
       "      <td>Mobile</td>\n",
       "      <td>Low</td>\n",
       "    </tr>\n",
       "  </tbody>\n",
       "</table>\n",
       "</div>"
      ],
      "text/plain": [
       "  Gender    Age Education Level Institution Type IT Student Location  \\\n",
       "0    Boy  21-25      University   Non Government         No      Yes   \n",
       "1   Girl  21-25      University   Non Government         No      Yes   \n",
       "2   Girl  16-20         College       Government         No      Yes   \n",
       "3   Girl  11-15          School   Non Government         No      Yes   \n",
       "4   Girl  16-20          School   Non Government         No      Yes   \n",
       "\n",
       "  Load-shedding Financial Condition Internet Type Network Type Class Duration  \\\n",
       "0           Low                 Mid          Wifi           4G            3-6   \n",
       "1          High                 Mid   Mobile Data           4G            1-3   \n",
       "2           Low                 Mid          Wifi           4G            1-3   \n",
       "3           Low                 Mid   Mobile Data           4G            1-3   \n",
       "4           Low                Poor   Mobile Data           3G              0   \n",
       "\n",
       "  Self Lms  Device Adaptivity Level  \n",
       "0       No     Tab         Moderate  \n",
       "1      Yes  Mobile         Moderate  \n",
       "2       No  Mobile         Moderate  \n",
       "3       No  Mobile         Moderate  \n",
       "4       No  Mobile              Low  "
      ]
     },
     "execution_count": 270,
     "metadata": {},
     "output_type": "execute_result"
    }
   ],
   "source": [
    "df = pd.read_csv('students_adaptability_level_online_education.csv')\n",
    "df.head()"
   ]
  },
  {
   "cell_type": "code",
   "execution_count": 43,
   "id": "429ea974",
   "metadata": {},
   "outputs": [
    {
     "data": {
      "text/plain": [
       "(1205, 14)"
      ]
     },
     "execution_count": 43,
     "metadata": {},
     "output_type": "execute_result"
    }
   ],
   "source": [
    "df.shape"
   ]
  },
  {
   "cell_type": "markdown",
   "id": "e8d98987",
   "metadata": {},
   "source": [
    "### Data visualisation"
   ]
  },
  {
   "cell_type": "code",
   "execution_count": 46,
   "id": "ba0f6dc8",
   "metadata": {
    "scrolled": false
   },
   "outputs": [
    {
     "data": {
      "image/png": "[encoded data removed]",
      "text/plain": [
       "<Figure size 432x288 with 1 Axes>"
      ]
     },
     "metadata": {
      "needs_background": "light"
     },
     "output_type": "display_data"
    },
    {
     "data": {
      "image/png": "[encoded data removed]",
      "text/plain": [
       "<Figure size 432x288 with 1 Axes>"
      ]
     },
     "metadata": {
      "needs_background": "light"
     },
     "output_type": "display_data"
    },
    {
     "data": {
      "image/png": "[encoded data removed]",
      "text/plain": [
       "<Figure size 432x288 with 1 Axes>"
      ]
     },
     "metadata": {
      "needs_background": "light"
     },
     "output_type": "display_data"
    },
    {
     "data": {
      "image/png": "[encoded data removed]",
      "text/plain": [
       "<Figure size 432x288 with 1 Axes>"
      ]
     },
     "metadata": {
      "needs_background": "light"
     },
     "output_type": "display_data"
    },
    {
     "data": {
      "image/png": "[encoded data removed]",
      "text/plain": [
       "<Figure size 432x288 with 1 Axes>"
      ]
     },
     "metadata": {
      "needs_background": "light"
     },
     "output_type": "display_data"
    },
    {
     "data": {
      "image/png": "[encoded data removed]",
      "text/plain": [
       "<Figure size 432x288 with 1 Axes>"
      ]
     },
     "metadata": {
      "needs_background": "light"
     },
     "output_type": "display_data"
    },
    {
     "data": {
      "image/png": "[encoded data removed]",
      "text/plain": [
       "<Figure size 432x288 with 1 Axes>"
      ]
     },
     "metadata": {
      "needs_background": "light"
     },
     "output_type": "display_data"
    },
    {
     "data": {
      "image/png": "[encoded data removed]",
      "text/plain": [
       "<Figure size 432x288 with 1 Axes>"
      ]
     },
     "metadata": {
      "needs_background": "light"
     },
     "output_type": "display_data"
    },
    {
     "data": {
      "image/png": "[encoded data removed]",
      "text/plain": [
       "<Figure size 432x288 with 1 Axes>"
      ]
     },
     "metadata": {
      "needs_background": "light"
     },
     "output_type": "display_data"
    },
    {
     "data": {
      "image/png": "[encoded data removed]",
      "text/plain": [
       "<Figure size 432x288 with 1 Axes>"
      ]
     },
     "metadata": {
      "needs_background": "light"
     },
     "output_type": "display_data"
    },
    {
     "data": {
      "image/png": "[encoded data removed]",
      "text/plain": [
       "<Figure size 432x288 with 1 Axes>"
      ]
     },
     "metadata": {
      "needs_background": "light"
     },
     "output_type": "display_data"
    },
    {
     "data": {
      "image/png": "[encoded data removed]",
      "text/plain": [
       "<Figure size 432x288 with 1 Axes>"
      ]
     },
     "metadata": {
      "needs_background": "light"
     },
     "output_type": "display_data"
    },
    {
     "data": {
      "image/png": "[encoded data removed]",
      "text/plain": [
       "<Figure size 432x288 with 1 Axes>"
      ]
     },
     "metadata": {
      "needs_background": "light"
     },
     "output_type": "display_data"
    },
    {
     "data": {
      "image/png": "[encoded data removed]",
      "text/plain": [
       "<Figure size 432x288 with 1 Axes>"
      ]
     },
     "metadata": {
      "needs_background": "light"
     },
     "output_type": "display_data"
    }
   ],
   "source": [
    "for column in df.columns:\n",
    "    plt.figure()\n",
    "    if pd.api.types.is_numeric_dtype(df[column]):\n",
    "        # Numeric column\n",
    "        df[column].hist()\n",
    "        plt.title(f\"Distribution of values in column '{column}'\")\n",
    "        plt.xlabel(\"Values\")\n",
    "        plt.ylabel(\"Frequency\")\n",
    "    else:\n",
    "        # Categorical column\n",
    "        value_counts = df[column].value_counts()\n",
    "        value_counts.plot(kind='bar')\n",
    "        plt.title(f\"Distribution of values in column '{column}'\")\n",
    "        plt.xlabel(\"Distinct values\")\n",
    "        plt.ylabel(\"Frequency\")\n",
    "        plt.xticks(rotation=0)\n",
    "    plt.show()"
   ]
  },
  {
   "cell_type": "markdown",
   "id": "97d2b6e3",
   "metadata": {},
   "source": [
    "### Data transformation"
   ]
  },
  {
   "cell_type": "code",
   "execution_count": 272,
   "id": "fc5e5dbc",
   "metadata": {},
   "outputs": [],
   "source": [
    "df['Gender'] = df['Gender'].replace({'Boy': 1, 'Girl':0})\n",
    "df['Education Level']=df['Education Level'].replace({'School':0,'College':1,'University':2})\n",
    "df['Institution Type']=df['Institution Type'].replace({'Non Government':0,'Government':1})\n",
    "df['IT Student'] = df['IT Student'].replace({'Yes': 1, 'No':0})\n",
    "df['Location'] = df['Location'].replace({'Yes': 1, 'No':0})\n",
    "df['Load-shedding'] = df['Load-shedding'].replace({'High': 1, 'Low':0})\n",
    "df['Financial Condition']=df['Financial Condition'].replace({'Poor':0,'Mid':1,'Rich':2})\n",
    "df['Internet Type']=df['Internet Type'].replace({'Wifi':0,'Mobile Data':1})\n",
    "df['Network Type']=df['Network Type'].replace({'2G':0,'3G':1,'4G':2})\n",
    "df['Self Lms'] = df['Self Lms'].replace({'Yes': 1, 'No':0})\n",
    "df['Device']=df['Device'].replace({'Tab':0,'Mobile':1,'Computer':2})\n",
    "df['Adaptivity Level']=df['Adaptivity Level'].replace({'Low':0,'Moderate':1,'High':2})"
   ]
  },
  {
   "cell_type": "code",
   "execution_count": 273,
   "id": "dab56f99",
   "metadata": {},
   "outputs": [
    {
     "data": {
      "text/html": [
       "<div>\n",
       "<style scoped>\n",
       "    .dataframe tbody tr th:only-of-type {\n",
       "        vertical-align: middle;\n",
       "    }\n",
       "\n",
       "    .dataframe tbody tr th {\n",
       "        vertical-align: top;\n",
       "    }\n",
       "\n",
       "    .dataframe thead th {\n",
       "        text-align: right;\n",
       "    }\n",
       "</style>\n",
       "<table border=\"1\" class=\"dataframe\">\n",
       "  <thead>\n",
       "    <tr style=\"text-align: right;\">\n",
       "      <th></th>\n",
       "      <th>Gender</th>\n",
       "      <th>Age</th>\n",
       "      <th>Education Level</th>\n",
       "      <th>Institution Type</th>\n",
       "      <th>IT Student</th>\n",
       "      <th>Location</th>\n",
       "      <th>Load-shedding</th>\n",
       "      <th>Financial Condition</th>\n",
       "      <th>Internet Type</th>\n",
       "      <th>Network Type</th>\n",
       "      <th>Class Duration</th>\n",
       "      <th>Self Lms</th>\n",
       "      <th>Device</th>\n",
       "      <th>Adaptivity Level</th>\n",
       "    </tr>\n",
       "  </thead>\n",
       "  <tbody>\n",
       "    <tr>\n",
       "      <th>0</th>\n",
       "      <td>1</td>\n",
       "      <td>21-25</td>\n",
       "      <td>2</td>\n",
       "      <td>0</td>\n",
       "      <td>0</td>\n",
       "      <td>1</td>\n",
       "      <td>0</td>\n",
       "      <td>1</td>\n",
       "      <td>0</td>\n",
       "      <td>2</td>\n",
       "      <td>3-6</td>\n",
       "      <td>0</td>\n",
       "      <td>0</td>\n",
       "      <td>1</td>\n",
       "    </tr>\n",
       "    <tr>\n",
       "      <th>1</th>\n",
       "      <td>0</td>\n",
       "      <td>21-25</td>\n",
       "      <td>2</td>\n",
       "      <td>0</td>\n",
       "      <td>0</td>\n",
       "      <td>1</td>\n",
       "      <td>1</td>\n",
       "      <td>1</td>\n",
       "      <td>1</td>\n",
       "      <td>2</td>\n",
       "      <td>1-3</td>\n",
       "      <td>1</td>\n",
       "      <td>1</td>\n",
       "      <td>1</td>\n",
       "    </tr>\n",
       "    <tr>\n",
       "      <th>2</th>\n",
       "      <td>0</td>\n",
       "      <td>16-20</td>\n",
       "      <td>1</td>\n",
       "      <td>1</td>\n",
       "      <td>0</td>\n",
       "      <td>1</td>\n",
       "      <td>0</td>\n",
       "      <td>1</td>\n",
       "      <td>0</td>\n",
       "      <td>2</td>\n",
       "      <td>1-3</td>\n",
       "      <td>0</td>\n",
       "      <td>1</td>\n",
       "      <td>1</td>\n",
       "    </tr>\n",
       "    <tr>\n",
       "      <th>3</th>\n",
       "      <td>0</td>\n",
       "      <td>11-15</td>\n",
       "      <td>0</td>\n",
       "      <td>0</td>\n",
       "      <td>0</td>\n",
       "      <td>1</td>\n",
       "      <td>0</td>\n",
       "      <td>1</td>\n",
       "      <td>1</td>\n",
       "      <td>2</td>\n",
       "      <td>1-3</td>\n",
       "      <td>0</td>\n",
       "      <td>1</td>\n",
       "      <td>1</td>\n",
       "    </tr>\n",
       "    <tr>\n",
       "      <th>4</th>\n",
       "      <td>0</td>\n",
       "      <td>16-20</td>\n",
       "      <td>0</td>\n",
       "      <td>0</td>\n",
       "      <td>0</td>\n",
       "      <td>1</td>\n",
       "      <td>0</td>\n",
       "      <td>0</td>\n",
       "      <td>1</td>\n",
       "      <td>1</td>\n",
       "      <td>0</td>\n",
       "      <td>0</td>\n",
       "      <td>1</td>\n",
       "      <td>0</td>\n",
       "    </tr>\n",
       "  </tbody>\n",
       "</table>\n",
       "</div>"
      ],
      "text/plain": [
       "   Gender    Age  Education Level  Institution Type  IT Student  Location  \\\n",
       "0       1  21-25                2                 0           0         1   \n",
       "1       0  21-25                2                 0           0         1   \n",
       "2       0  16-20                1                 1           0         1   \n",
       "3       0  11-15                0                 0           0         1   \n",
       "4       0  16-20                0                 0           0         1   \n",
       "\n",
       "   Load-shedding  Financial Condition  Internet Type  Network Type  \\\n",
       "0              0                    1              0             2   \n",
       "1              1                    1              1             2   \n",
       "2              0                    1              0             2   \n",
       "3              0                    1              1             2   \n",
       "4              0                    0              1             1   \n",
       "\n",
       "  Class Duration  Self Lms  Device  Adaptivity Level  \n",
       "0            3-6         0       0                 1  \n",
       "1            1-3         1       1                 1  \n",
       "2            1-3         0       1                 1  \n",
       "3            1-3         0       1                 1  \n",
       "4              0         0       1                 0  "
      ]
     },
     "execution_count": 273,
     "metadata": {},
     "output_type": "execute_result"
    }
   ],
   "source": [
    "df.head()"
   ]
  },
  {
   "cell_type": "code",
   "execution_count": 274,
   "id": "87a4eb6a",
   "metadata": {},
   "outputs": [
    {
     "data": {
      "text/html": [
       "<div>\n",
       "<style scoped>\n",
       "    .dataframe tbody tr th:only-of-type {\n",
       "        vertical-align: middle;\n",
       "    }\n",
       "\n",
       "    .dataframe tbody tr th {\n",
       "        vertical-align: top;\n",
       "    }\n",
       "\n",
       "    .dataframe thead th {\n",
       "        text-align: right;\n",
       "    }\n",
       "</style>\n",
       "<table border=\"1\" class=\"dataframe\">\n",
       "  <thead>\n",
       "    <tr style=\"text-align: right;\">\n",
       "      <th></th>\n",
       "      <th>Gender</th>\n",
       "      <th>Education Level</th>\n",
       "      <th>Institution Type</th>\n",
       "      <th>IT Student</th>\n",
       "      <th>Location</th>\n",
       "      <th>Load-shedding</th>\n",
       "      <th>Financial Condition</th>\n",
       "      <th>Internet Type</th>\n",
       "      <th>Network Type</th>\n",
       "      <th>Self Lms</th>\n",
       "      <th>Device</th>\n",
       "      <th>Adaptivity Level</th>\n",
       "    </tr>\n",
       "  </thead>\n",
       "  <tbody>\n",
       "    <tr>\n",
       "      <th>Gender</th>\n",
       "      <td>1.000000</td>\n",
       "      <td>0.136257</td>\n",
       "      <td>0.106910</td>\n",
       "      <td>0.233284</td>\n",
       "      <td>0.034231</td>\n",
       "      <td>0.059998</td>\n",
       "      <td>0.031032</td>\n",
       "      <td>-0.021589</td>\n",
       "      <td>0.032527</td>\n",
       "      <td>0.138331</td>\n",
       "      <td>0.140691</td>\n",
       "      <td>0.094695</td>\n",
       "    </tr>\n",
       "    <tr>\n",
       "      <th>Education Level</th>\n",
       "      <td>0.136257</td>\n",
       "      <td>1.000000</td>\n",
       "      <td>0.155049</td>\n",
       "      <td>0.505306</td>\n",
       "      <td>-0.208581</td>\n",
       "      <td>0.210506</td>\n",
       "      <td>0.058994</td>\n",
       "      <td>-0.281628</td>\n",
       "      <td>0.057889</td>\n",
       "      <td>0.455465</td>\n",
       "      <td>0.273354</td>\n",
       "      <td>-0.024308</td>\n",
       "    </tr>\n",
       "    <tr>\n",
       "      <th>Institution Type</th>\n",
       "      <td>0.106910</td>\n",
       "      <td>0.155049</td>\n",
       "      <td>1.000000</td>\n",
       "      <td>-0.104185</td>\n",
       "      <td>-0.326813</td>\n",
       "      <td>-0.017794</td>\n",
       "      <td>0.069911</td>\n",
       "      <td>0.060198</td>\n",
       "      <td>0.060035</td>\n",
       "      <td>-0.096722</td>\n",
       "      <td>-0.096857</td>\n",
       "      <td>-0.269948</td>\n",
       "    </tr>\n",
       "    <tr>\n",
       "      <th>IT Student</th>\n",
       "      <td>0.233284</td>\n",
       "      <td>0.505306</td>\n",
       "      <td>-0.104185</td>\n",
       "      <td>1.000000</td>\n",
       "      <td>0.009697</td>\n",
       "      <td>0.186005</td>\n",
       "      <td>0.070494</td>\n",
       "      <td>-0.113452</td>\n",
       "      <td>-0.128817</td>\n",
       "      <td>0.453429</td>\n",
       "      <td>0.386776</td>\n",
       "      <td>0.123269</td>\n",
       "    </tr>\n",
       "    <tr>\n",
       "      <th>Location</th>\n",
       "      <td>0.034231</td>\n",
       "      <td>-0.208581</td>\n",
       "      <td>-0.326813</td>\n",
       "      <td>0.009697</td>\n",
       "      <td>1.000000</td>\n",
       "      <td>-0.245380</td>\n",
       "      <td>0.109784</td>\n",
       "      <td>-0.222660</td>\n",
       "      <td>0.171539</td>\n",
       "      <td>-0.036443</td>\n",
       "      <td>0.070397</td>\n",
       "      <td>0.250746</td>\n",
       "    </tr>\n",
       "    <tr>\n",
       "      <th>Load-shedding</th>\n",
       "      <td>0.059998</td>\n",
       "      <td>0.210506</td>\n",
       "      <td>-0.017794</td>\n",
       "      <td>0.186005</td>\n",
       "      <td>-0.245380</td>\n",
       "      <td>1.000000</td>\n",
       "      <td>-0.188949</td>\n",
       "      <td>-0.013199</td>\n",
       "      <td>-0.164678</td>\n",
       "      <td>0.187610</td>\n",
       "      <td>0.052088</td>\n",
       "      <td>-0.085063</td>\n",
       "    </tr>\n",
       "    <tr>\n",
       "      <th>Financial Condition</th>\n",
       "      <td>0.031032</td>\n",
       "      <td>0.058994</td>\n",
       "      <td>0.069911</td>\n",
       "      <td>0.070494</td>\n",
       "      <td>0.109784</td>\n",
       "      <td>-0.188949</td>\n",
       "      <td>1.000000</td>\n",
       "      <td>-0.284559</td>\n",
       "      <td>0.193258</td>\n",
       "      <td>-0.011446</td>\n",
       "      <td>0.086581</td>\n",
       "      <td>0.238270</td>\n",
       "    </tr>\n",
       "    <tr>\n",
       "      <th>Internet Type</th>\n",
       "      <td>-0.021589</td>\n",
       "      <td>-0.281628</td>\n",
       "      <td>0.060198</td>\n",
       "      <td>-0.113452</td>\n",
       "      <td>-0.222660</td>\n",
       "      <td>-0.013199</td>\n",
       "      <td>-0.284559</td>\n",
       "      <td>1.000000</td>\n",
       "      <td>-0.335989</td>\n",
       "      <td>-0.084661</td>\n",
       "      <td>-0.250007</td>\n",
       "      <td>-0.089234</td>\n",
       "    </tr>\n",
       "    <tr>\n",
       "      <th>Network Type</th>\n",
       "      <td>0.032527</td>\n",
       "      <td>0.057889</td>\n",
       "      <td>0.060035</td>\n",
       "      <td>-0.128817</td>\n",
       "      <td>0.171539</td>\n",
       "      <td>-0.164678</td>\n",
       "      <td>0.193258</td>\n",
       "      <td>-0.335989</td>\n",
       "      <td>1.000000</td>\n",
       "      <td>-0.207056</td>\n",
       "      <td>0.063738</td>\n",
       "      <td>0.141849</td>\n",
       "    </tr>\n",
       "    <tr>\n",
       "      <th>Self Lms</th>\n",
       "      <td>0.138331</td>\n",
       "      <td>0.455465</td>\n",
       "      <td>-0.096722</td>\n",
       "      <td>0.453429</td>\n",
       "      <td>-0.036443</td>\n",
       "      <td>0.187610</td>\n",
       "      <td>-0.011446</td>\n",
       "      <td>-0.084661</td>\n",
       "      <td>-0.207056</td>\n",
       "      <td>1.000000</td>\n",
       "      <td>0.210852</td>\n",
       "      <td>0.156557</td>\n",
       "    </tr>\n",
       "    <tr>\n",
       "      <th>Device</th>\n",
       "      <td>0.140691</td>\n",
       "      <td>0.273354</td>\n",
       "      <td>-0.096857</td>\n",
       "      <td>0.386776</td>\n",
       "      <td>0.070397</td>\n",
       "      <td>0.052088</td>\n",
       "      <td>0.086581</td>\n",
       "      <td>-0.250007</td>\n",
       "      <td>0.063738</td>\n",
       "      <td>0.210852</td>\n",
       "      <td>1.000000</td>\n",
       "      <td>0.110649</td>\n",
       "    </tr>\n",
       "    <tr>\n",
       "      <th>Adaptivity Level</th>\n",
       "      <td>0.094695</td>\n",
       "      <td>-0.024308</td>\n",
       "      <td>-0.269948</td>\n",
       "      <td>0.123269</td>\n",
       "      <td>0.250746</td>\n",
       "      <td>-0.085063</td>\n",
       "      <td>0.238270</td>\n",
       "      <td>-0.089234</td>\n",
       "      <td>0.141849</td>\n",
       "      <td>0.156557</td>\n",
       "      <td>0.110649</td>\n",
       "      <td>1.000000</td>\n",
       "    </tr>\n",
       "  </tbody>\n",
       "</table>\n",
       "</div>"
      ],
      "text/plain": [
       "                       Gender  Education Level  Institution Type  IT Student  \\\n",
       "Gender               1.000000         0.136257          0.106910    0.233284   \n",
       "Education Level      0.136257         1.000000          0.155049    0.505306   \n",
       "Institution Type     0.106910         0.155049          1.000000   -0.104185   \n",
       "IT Student           0.233284         0.505306         -0.104185    1.000000   \n",
       "Location             0.034231        -0.208581         -0.326813    0.009697   \n",
       "Load-shedding        0.059998         0.210506         -0.017794    0.186005   \n",
       "Financial Condition  0.031032         0.058994          0.069911    0.070494   \n",
       "Internet Type       -0.021589        -0.281628          0.060198   -0.113452   \n",
       "Network Type         0.032527         0.057889          0.060035   -0.128817   \n",
       "Self Lms             0.138331         0.455465         -0.096722    0.453429   \n",
       "Device               0.140691         0.273354         -0.096857    0.386776   \n",
       "Adaptivity Level     0.094695        -0.024308         -0.269948    0.123269   \n",
       "\n",
       "                     Location  Load-shedding  Financial Condition  \\\n",
       "Gender               0.034231       0.059998             0.031032   \n",
       "Education Level     -0.208581       0.210506             0.058994   \n",
       "Institution Type    -0.326813      -0.017794             0.069911   \n",
       "IT Student           0.009697       0.186005             0.070494   \n",
       "Location             1.000000      -0.245380             0.109784   \n",
       "Load-shedding       -0.245380       1.000000            -0.188949   \n",
       "Financial Condition  0.109784      -0.188949             1.000000   \n",
       "Internet Type       -0.222660      -0.013199            -0.284559   \n",
       "Network Type         0.171539      -0.164678             0.193258   \n",
       "Self Lms            -0.036443       0.187610            -0.011446   \n",
       "Device               0.070397       0.052088             0.086581   \n",
       "Adaptivity Level     0.250746      -0.085063             0.238270   \n",
       "\n",
       "                     Internet Type  Network Type  Self Lms    Device  \\\n",
       "Gender                   -0.021589      0.032527  0.138331  0.140691   \n",
       "Education Level          -0.281628      0.057889  0.455465  0.273354   \n",
       "Institution Type          0.060198      0.060035 -0.096722 -0.096857   \n",
       "IT Student               -0.113452     -0.128817  0.453429  0.386776   \n",
       "Location                 -0.222660      0.171539 -0.036443  0.070397   \n",
       "Load-shedding            -0.013199     -0.164678  0.187610  0.052088   \n",
       "Financial Condition      -0.284559      0.193258 -0.011446  0.086581   \n",
       "Internet Type             1.000000     -0.335989 -0.084661 -0.250007   \n",
       "Network Type             -0.335989      1.000000 -0.207056  0.063738   \n",
       "Self Lms                 -0.084661     -0.207056  1.000000  0.210852   \n",
       "Device                   -0.250007      0.063738  0.210852  1.000000   \n",
       "Adaptivity Level         -0.089234      0.141849  0.156557  0.110649   \n",
       "\n",
       "                     Adaptivity Level  \n",
       "Gender                       0.094695  \n",
       "Education Level             -0.024308  \n",
       "Institution Type            -0.269948  \n",
       "IT Student                   0.123269  \n",
       "Location                     0.250746  \n",
       "Load-shedding               -0.085063  \n",
       "Financial Condition          0.238270  \n",
       "Internet Type               -0.089234  \n",
       "Network Type                 0.141849  \n",
       "Self Lms                     0.156557  \n",
       "Device                       0.110649  \n",
       "Adaptivity Level             1.000000  "
      ]
     },
     "execution_count": 274,
     "metadata": {},
     "output_type": "execute_result"
    }
   ],
   "source": [
    "df.corr()"
   ]
  },
  {
   "cell_type": "code",
   "execution_count": 275,
   "id": "7b3f1486",
   "metadata": {},
   "outputs": [
    {
     "name": "stdout",
     "output_type": "stream",
     "text": [
      "<class 'pandas.core.frame.DataFrame'>\n",
      "RangeIndex: 1205 entries, 0 to 1204\n",
      "Data columns (total 14 columns):\n",
      " #   Column               Non-Null Count  Dtype \n",
      "---  ------               --------------  ----- \n",
      " 0   Gender               1205 non-null   int64 \n",
      " 1   Age                  1205 non-null   object\n",
      " 2   Education Level      1205 non-null   int64 \n",
      " 3   Institution Type     1205 non-null   int64 \n",
      " 4   IT Student           1205 non-null   int64 \n",
      " 5   Location             1205 non-null   int64 \n",
      " 6   Load-shedding        1205 non-null   int64 \n",
      " 7   Financial Condition  1205 non-null   int64 \n",
      " 8   Internet Type        1205 non-null   int64 \n",
      " 9   Network Type         1205 non-null   int64 \n",
      " 10  Class Duration       1205 non-null   object\n",
      " 11  Self Lms             1205 non-null   int64 \n",
      " 12  Device               1205 non-null   int64 \n",
      " 13  Adaptivity Level     1205 non-null   int64 \n",
      "dtypes: int64(12), object(2)\n",
      "memory usage: 131.9+ KB\n"
     ]
    }
   ],
   "source": [
    "df.info()"
   ]
  },
  {
   "cell_type": "code",
   "execution_count": 276,
   "id": "78825c0f",
   "metadata": {},
   "outputs": [
    {
     "data": {
      "text/html": [
       "<div>\n",
       "<style scoped>\n",
       "    .dataframe tbody tr th:only-of-type {\n",
       "        vertical-align: middle;\n",
       "    }\n",
       "\n",
       "    .dataframe tbody tr th {\n",
       "        vertical-align: top;\n",
       "    }\n",
       "\n",
       "    .dataframe thead th {\n",
       "        text-align: right;\n",
       "    }\n",
       "</style>\n",
       "<table border=\"1\" class=\"dataframe\">\n",
       "  <thead>\n",
       "    <tr style=\"text-align: right;\">\n",
       "      <th></th>\n",
       "      <th>Gender</th>\n",
       "      <th>Education Level</th>\n",
       "      <th>Institution Type</th>\n",
       "      <th>IT Student</th>\n",
       "      <th>Location</th>\n",
       "      <th>Load-shedding</th>\n",
       "      <th>Financial Condition</th>\n",
       "      <th>Internet Type</th>\n",
       "      <th>Network Type</th>\n",
       "      <th>Self Lms</th>\n",
       "      <th>Device</th>\n",
       "      <th>Adaptivity Level</th>\n",
       "    </tr>\n",
       "  </thead>\n",
       "  <tbody>\n",
       "    <tr>\n",
       "      <th>count</th>\n",
       "      <td>1205.000000</td>\n",
       "      <td>1205.000000</td>\n",
       "      <td>1205.000000</td>\n",
       "      <td>1205.000000</td>\n",
       "      <td>1205.000000</td>\n",
       "      <td>1205.000000</td>\n",
       "      <td>1205.000000</td>\n",
       "      <td>1205.000000</td>\n",
       "      <td>1205.000000</td>\n",
       "      <td>1205.000000</td>\n",
       "      <td>1205.000000</td>\n",
       "      <td>1205.000000</td>\n",
       "    </tr>\n",
       "    <tr>\n",
       "      <th>mean</th>\n",
       "      <td>0.550207</td>\n",
       "      <td>0.938589</td>\n",
       "      <td>0.317012</td>\n",
       "      <td>0.252282</td>\n",
       "      <td>0.775934</td>\n",
       "      <td>0.166805</td>\n",
       "      <td>0.869710</td>\n",
       "      <td>0.576763</td>\n",
       "      <td>1.627386</td>\n",
       "      <td>0.174274</td>\n",
       "      <td>1.109544</td>\n",
       "      <td>0.684647</td>\n",
       "    </tr>\n",
       "    <tr>\n",
       "      <th>std</th>\n",
       "      <td>0.497679</td>\n",
       "      <td>0.902863</td>\n",
       "      <td>0.465506</td>\n",
       "      <td>0.434503</td>\n",
       "      <td>0.417139</td>\n",
       "      <td>0.372956</td>\n",
       "      <td>0.504584</td>\n",
       "      <td>0.494277</td>\n",
       "      <td>0.515295</td>\n",
       "      <td>0.379502</td>\n",
       "      <td>0.384003</td>\n",
       "      <td>0.618221</td>\n",
       "    </tr>\n",
       "    <tr>\n",
       "      <th>min</th>\n",
       "      <td>0.000000</td>\n",
       "      <td>0.000000</td>\n",
       "      <td>0.000000</td>\n",
       "      <td>0.000000</td>\n",
       "      <td>0.000000</td>\n",
       "      <td>0.000000</td>\n",
       "      <td>0.000000</td>\n",
       "      <td>0.000000</td>\n",
       "      <td>0.000000</td>\n",
       "      <td>0.000000</td>\n",
       "      <td>0.000000</td>\n",
       "      <td>0.000000</td>\n",
       "    </tr>\n",
       "    <tr>\n",
       "      <th>25%</th>\n",
       "      <td>0.000000</td>\n",
       "      <td>0.000000</td>\n",
       "      <td>0.000000</td>\n",
       "      <td>0.000000</td>\n",
       "      <td>1.000000</td>\n",
       "      <td>0.000000</td>\n",
       "      <td>1.000000</td>\n",
       "      <td>0.000000</td>\n",
       "      <td>1.000000</td>\n",
       "      <td>0.000000</td>\n",
       "      <td>1.000000</td>\n",
       "      <td>0.000000</td>\n",
       "    </tr>\n",
       "    <tr>\n",
       "      <th>50%</th>\n",
       "      <td>1.000000</td>\n",
       "      <td>1.000000</td>\n",
       "      <td>0.000000</td>\n",
       "      <td>0.000000</td>\n",
       "      <td>1.000000</td>\n",
       "      <td>0.000000</td>\n",
       "      <td>1.000000</td>\n",
       "      <td>1.000000</td>\n",
       "      <td>2.000000</td>\n",
       "      <td>0.000000</td>\n",
       "      <td>1.000000</td>\n",
       "      <td>1.000000</td>\n",
       "    </tr>\n",
       "    <tr>\n",
       "      <th>75%</th>\n",
       "      <td>1.000000</td>\n",
       "      <td>2.000000</td>\n",
       "      <td>1.000000</td>\n",
       "      <td>1.000000</td>\n",
       "      <td>1.000000</td>\n",
       "      <td>0.000000</td>\n",
       "      <td>1.000000</td>\n",
       "      <td>1.000000</td>\n",
       "      <td>2.000000</td>\n",
       "      <td>0.000000</td>\n",
       "      <td>1.000000</td>\n",
       "      <td>1.000000</td>\n",
       "    </tr>\n",
       "    <tr>\n",
       "      <th>max</th>\n",
       "      <td>1.000000</td>\n",
       "      <td>2.000000</td>\n",
       "      <td>1.000000</td>\n",
       "      <td>1.000000</td>\n",
       "      <td>1.000000</td>\n",
       "      <td>1.000000</td>\n",
       "      <td>2.000000</td>\n",
       "      <td>1.000000</td>\n",
       "      <td>2.000000</td>\n",
       "      <td>1.000000</td>\n",
       "      <td>2.000000</td>\n",
       "      <td>2.000000</td>\n",
       "    </tr>\n",
       "  </tbody>\n",
       "</table>\n",
       "</div>"
      ],
      "text/plain": [
       "            Gender  Education Level  Institution Type   IT Student  \\\n",
       "count  1205.000000      1205.000000       1205.000000  1205.000000   \n",
       "mean      0.550207         0.938589          0.317012     0.252282   \n",
       "std       0.497679         0.902863          0.465506     0.434503   \n",
       "min       0.000000         0.000000          0.000000     0.000000   \n",
       "25%       0.000000         0.000000          0.000000     0.000000   \n",
       "50%       1.000000         1.000000          0.000000     0.000000   \n",
       "75%       1.000000         2.000000          1.000000     1.000000   \n",
       "max       1.000000         2.000000          1.000000     1.000000   \n",
       "\n",
       "          Location  Load-shedding  Financial Condition  Internet Type  \\\n",
       "count  1205.000000    1205.000000          1205.000000    1205.000000   \n",
       "mean      0.775934       0.166805             0.869710       0.576763   \n",
       "std       0.417139       0.372956             0.504584       0.494277   \n",
       "min       0.000000       0.000000             0.000000       0.000000   \n",
       "25%       1.000000       0.000000             1.000000       0.000000   \n",
       "50%       1.000000       0.000000             1.000000       1.000000   \n",
       "75%       1.000000       0.000000             1.000000       1.000000   \n",
       "max       1.000000       1.000000             2.000000       1.000000   \n",
       "\n",
       "       Network Type     Self Lms       Device  Adaptivity Level  \n",
       "count   1205.000000  1205.000000  1205.000000       1205.000000  \n",
       "mean       1.627386     0.174274     1.109544          0.684647  \n",
       "std        0.515295     0.379502     0.384003          0.618221  \n",
       "min        0.000000     0.000000     0.000000          0.000000  \n",
       "25%        1.000000     0.000000     1.000000          0.000000  \n",
       "50%        2.000000     0.000000     1.000000          1.000000  \n",
       "75%        2.000000     0.000000     1.000000          1.000000  \n",
       "max        2.000000     1.000000     2.000000          2.000000  "
      ]
     },
     "execution_count": 276,
     "metadata": {},
     "output_type": "execute_result"
    }
   ],
   "source": [
    "df.describe()"
   ]
  },
  {
   "cell_type": "markdown",
   "id": "4490d7e4",
   "metadata": {},
   "source": [
    "### Implementing the machine learing model"
   ]
  },
  {
   "cell_type": "code",
   "execution_count": 285,
   "id": "46eac0d6",
   "metadata": {},
   "outputs": [],
   "source": [
    "x = df[['Financial Condition','Self Lms','Network Type','IT Student','Device']]\n",
    "y = df['Adaptivity Level']"
   ]
  },
  {
   "cell_type": "code",
   "execution_count": 286,
   "id": "4ef648cd",
   "metadata": {},
   "outputs": [],
   "source": [
    "from sklearn.model_selection import train_test_split"
   ]
  },
  {
   "cell_type": "code",
   "execution_count": 287,
   "id": "9c4fbecb",
   "metadata": {},
   "outputs": [
    {
     "name": "stdout",
     "output_type": "stream",
     "text": [
      "X_train: (903, 5)\n",
      "X_test: (302, 5)\n",
      "y_train: (903,)\n",
      "y_test: (302,)\n"
     ]
    }
   ],
   "source": [
    "X_train, X_test, y_train, y_test = train_test_split(x, y, test_size=0.25, random_state=0)\n",
    "print(f'X_train: {X_train.shape}\\nX_test: {X_test.shape}\\ny_train: {y_train.shape}\\ny_test: {y_test.shape}')"
   ]
  },
  {
   "cell_type": "markdown",
   "id": "d0a95044",
   "metadata": {},
   "source": [
    "### Linear Regression"
   ]
  },
  {
   "cell_type": "code",
   "execution_count": 288,
   "id": "a8b39111",
   "metadata": {},
   "outputs": [
    {
     "data": {
      "text/plain": [
       "LinearRegression()"
      ]
     },
     "execution_count": 288,
     "metadata": {},
     "output_type": "execute_result"
    }
   ],
   "source": [
    "from sklearn.linear_model import LinearRegression\n",
    "from sklearn import metrics\n",
    "regr = LinearRegression()\n",
    "regr.fit(X_train, y_train)"
   ]
  },
  {
   "cell_type": "code",
   "execution_count": 289,
   "id": "217374fd",
   "metadata": {},
   "outputs": [
    {
     "data": {
      "text/plain": [
       "0.4205298013245033"
      ]
     },
     "execution_count": 289,
     "metadata": {},
     "output_type": "execute_result"
    }
   ],
   "source": [
    "regr_pred = np.floor(regr.predict(X_test)).astype(int)\n",
    "accuracy_score(y_test,regr_pred)"
   ]
  },
  {
   "cell_type": "markdown",
   "id": "7c234431",
   "metadata": {},
   "source": [
    "### Random Forest Regression"
   ]
  },
  {
   "cell_type": "code",
   "execution_count": 234,
   "id": "9da1b55e",
   "metadata": {},
   "outputs": [
    {
     "data": {
      "text/plain": [
       "RandomForestRegressor(max_depth=10, n_estimators=10, random_state=5)"
      ]
     },
     "execution_count": 234,
     "metadata": {},
     "output_type": "execute_result"
    }
   ],
   "source": [
    "from sklearn.ensemble import RandomForestRegressor\n",
    "rfr = RandomForestRegressor(max_depth = 10,random_state = 5,n_estimators = 10)\n",
    "rfr.fit(X_train, y_train)\n"
   ]
  },
  {
   "cell_type": "code",
   "execution_count": 243,
   "id": "af2815ff",
   "metadata": {},
   "outputs": [
    {
     "data": {
      "text/plain": [
       "0.4735099337748344"
      ]
     },
     "execution_count": 243,
     "metadata": {},
     "output_type": "execute_result"
    }
   ],
   "source": [
    "rfr_pred = np.floor(rfr.predict(X_test)).astype(int)\n",
    "accuracy_score(y_test,rfr_pred)"
   ]
  },
  {
   "cell_type": "markdown",
   "id": "167d4082",
   "metadata": {},
   "source": [
    "### Suport Vector Regression"
   ]
  },
  {
   "cell_type": "code",
   "execution_count": 244,
   "id": "4b4291ef",
   "metadata": {},
   "outputs": [
    {
     "data": {
      "text/plain": [
       "SVR()"
      ]
     },
     "execution_count": 244,
     "metadata": {},
     "output_type": "execute_result"
    }
   ],
   "source": [
    "from sklearn.svm import SVR\n",
    "svm = SVR()\n",
    "svm.fit(X_train, y_train)\n"
   ]
  },
  {
   "cell_type": "code",
   "execution_count": 246,
   "id": "289706a7",
   "metadata": {},
   "outputs": [
    {
     "data": {
      "text/plain": [
       "0.45695364238410596"
      ]
     },
     "execution_count": 246,
     "metadata": {},
     "output_type": "execute_result"
    }
   ],
   "source": [
    "svm_pred = np.floor(svm.predict(X_test)).astype(int)\n",
    "accuracy_score(y_test,svm_pred)"
   ]
  },
  {
   "cell_type": "markdown",
   "id": "17616f3d",
   "metadata": {},
   "source": [
    "### Decision Tree Regression"
   ]
  },
  {
   "cell_type": "code",
   "execution_count": 263,
   "id": "c32622e3",
   "metadata": {},
   "outputs": [
    {
     "data": {
      "text/plain": [
       "DecisionTreeRegressor()"
      ]
     },
     "execution_count": 263,
     "metadata": {},
     "output_type": "execute_result"
    }
   ],
   "source": [
    "from sklearn.tree import DecisionTreeRegressor\n",
    "dtr = DecisionTreeRegressor()\n",
    "dtr.fit(X_train,y_train)"
   ]
  },
  {
   "cell_type": "code",
   "execution_count": 264,
   "id": "7fd511eb",
   "metadata": {},
   "outputs": [
    {
     "data": {
      "text/plain": [
       "0.4867549668874172"
      ]
     },
     "execution_count": 264,
     "metadata": {},
     "output_type": "execute_result"
    }
   ],
   "source": [
    "dtr_pred = np.floor(dtr.predict(X_test)).astype(int)\n",
    "accuracy_score(y_test,dtr_pred)"
   ]
  },
  {
   "cell_type": "markdown",
   "id": "427e1d32",
   "metadata": {},
   "source": [
    "### XGboost Regression"
   ]
  },
  {
   "cell_type": "code",
   "execution_count": 265,
   "id": "1a9e737d",
   "metadata": {},
   "outputs": [
    {
     "data": {
      "text/plain": [
       "XGBRegressor(base_score=None, booster=None, callbacks=None,\n",
       "             colsample_bylevel=None, colsample_bynode=None,\n",
       "             colsample_bytree=None, early_stopping_rounds=None,\n",
       "             enable_categorical=False, eval_metric=None, feature_types=None,\n",
       "             gamma=None, gpu_id=None, grow_policy=None, importance_type=None,\n",
       "             interaction_constraints=None, learning_rate=None, max_bin=None,\n",
       "             max_cat_threshold=None, max_cat_to_onehot=None,\n",
       "             max_delta_step=None, max_depth=None, max_leaves=None,\n",
       "             min_child_weight=None, missing=nan, monotone_constraints=None,\n",
       "             n_estimators=100, n_jobs=None, num_parallel_tree=None,\n",
       "             predictor=None, random_state=None, ...)"
      ]
     },
     "execution_count": 265,
     "metadata": {},
     "output_type": "execute_result"
    }
   ],
   "source": [
    "from xgboost.sklearn import XGBRegressor\n",
    "xgb = XGBRegressor()\n",
    "xgb.fit(X_train, y_train)"
   ]
  },
  {
   "cell_type": "code",
   "execution_count": 266,
   "id": "2c81c92a",
   "metadata": {},
   "outputs": [
    {
     "data": {
      "text/plain": [
       "0.4602649006622517"
      ]
     },
     "execution_count": 266,
     "metadata": {},
     "output_type": "execute_result"
    }
   ],
   "source": [
    "xgb_pred = np.floor(xgb.predict(X_test)).astype(int)\n",
    "accuracy_score(y_test,xgb_pred)"
   ]
  },
  {
   "cell_type": "markdown",
   "id": "51f10277",
   "metadata": {},
   "source": [
    "### GradientBoostingRegressor"
   ]
  },
  {
   "cell_type": "code",
   "execution_count": 290,
   "id": "5afb90d0",
   "metadata": {},
   "outputs": [
    {
     "data": {
      "text/plain": [
       "GradientBoostingRegressor()"
      ]
     },
     "execution_count": 290,
     "metadata": {},
     "output_type": "execute_result"
    }
   ],
   "source": [
    "from sklearn.ensemble import GradientBoostingRegressor\n",
    "gb = GradientBoostingRegressor()\n",
    "gb.fit(X_train, y_train)"
   ]
  },
  {
   "cell_type": "raw",
   "id": "2d598f26",
   "metadata": {},
   "source": [
    "gb_pred = np.floor(gb.predict(X_test)).astype(int)\n",
    "accuracy_score(y_test,gb_pred)"
   ]
  },
  {
   "cell_type": "markdown",
   "id": "4bf291a6",
   "metadata": {},
   "source": [
    "## Conclusion :"
   ]
  },
  {
   "cell_type": "markdown",
   "id": "37e397bf",
   "metadata": {},
   "source": [
    "### Comparing other machine Learing Algorithms Decision Tree Regression performs well with Accuracy Score 48.67%"
   ]
  },
  {
   "cell_type": "code",
   "execution_count": null,
   "id": "8afc0fa5",
   "metadata": {},
   "outputs": [],
   "source": []
  }
 ],
 "metadata": {
  "kernelspec": {
   "display_name": "Python 3 (ipykernel)",
   "language": "python",
   "name": "python3"
  },
  "language_info": {
   "codemirror_mode": {
    "name": "ipython",
    "version": 3
   },
   "file_extension": ".py",
   "mimetype": "text/x-python",
   "name": "python",
   "nbconvert_exporter": "python",
   "pygments_lexer": "ipython3",
   "version": "3.9.12"
  },
  "widgets": {
   "application/vnd.jupyter.widget-state+json": {
    "state": {},
    "version_major": 2,
    "version_minor": 0
   }
  }
 },
 "nbformat": 4,
 "nbformat_minor": 5
}
